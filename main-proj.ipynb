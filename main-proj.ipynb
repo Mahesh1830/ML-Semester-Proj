{
 "cells": [
  {
   "cell_type": "code",
   "execution_count": 1,
   "metadata": {},
   "outputs": [
    {
     "name": "stderr",
     "output_type": "stream",
     "text": [
      "/var/folders/g3/d2mj812s18vbpm8889xf69vc0000gn/T/ipykernel_6295/2321033784.py:4: UserWarning: Could not infer format, so each element will be parsed individually, falling back to `dateutil`. To ensure parsing is consistent and as-expected, please specify a format.\n",
      "  df = pd.read_csv(url,index_col=0,parse_dates=[0])\n",
      "/var/folders/g3/d2mj812s18vbpm8889xf69vc0000gn/T/ipykernel_6295/2321033784.py:4: UserWarning: Could not infer format, so each element will be parsed individually, falling back to `dateutil`. To ensure parsing is consistent and as-expected, please specify a format.\n",
      "  df = pd.read_csv(url,index_col=0,parse_dates=[0])\n"
     ]
    }
   ],
   "source": [
    "# https://huggingface.co/datasets/maharshipandya/spotify-tracks-dataset/tree/main\n",
    "import pandas as pd\n",
    "url = 'https://raw.githubusercontent.com/enhatl/ML-Semester-Proj/main/dataset.csv'\n",
    "df = pd.read_csv(url,index_col=0,parse_dates=[0])\n"
   ]
  }
 ],
 "metadata": {
  "kernelspec": {
   "display_name": "Python 3",
   "language": "python",
   "name": "python3"
  },
  "language_info": {
   "codemirror_mode": {
    "name": "ipython",
    "version": 3
   },
   "file_extension": ".py",
   "mimetype": "text/x-python",
   "name": "python",
   "nbconvert_exporter": "python",
   "pygments_lexer": "ipython3",
   "version": "3.11.1"
  }
 },
 "nbformat": 4,
 "nbformat_minor": 2
}
