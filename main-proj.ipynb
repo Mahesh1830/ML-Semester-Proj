{
 "cells": [
  {
   "cell_type": "code",
   "execution_count": 1,
   "metadata": {},
   "outputs": [],
   "source": [
    "# Import dataset\n",
    "import pandas as pd\n",
    "url = 'https://raw.githubusercontent.com/enhatl/ML-Semester-Proj/main/dataset.csv'\n",
    "df = pd.read_csv(url,index_col=0)"
   ]
  },
  {
   "cell_type": "markdown",
   "metadata": {},
   "source": [
    "# Decision Tree"
   ]
  },
  {
   "cell_type": "code",
   "execution_count": 2,
   "metadata": {},
   "outputs": [],
   "source": [
    "# Imports\n",
    "from sklearn.tree import DecisionTreeClassifier\n",
    "from sklearn.model_selection import train_test_split\n",
    "from sklearn.metrics import accuracy_score\n",
    "from sklearn.calibration import LabelEncoder\n",
    "from sklearn.metrics import accuracy_score, confusion_matrix, classification_report"
   ]
  },
  {
   "cell_type": "code",
   "execution_count": 3,
   "metadata": {},
   "outputs": [],
   "source": [
    "df_dt = df #make copy so that we can prepare the data correctly\n",
    "\n",
    "#unique variable, will not be useful to us\n",
    "df_dt = df_dt.drop('track_id', axis=1)\n",
    "#album name and track name are not going to be useful either\n",
    "df_dt = df_dt.drop(['album_name','track_name'], axis=1)"
   ]
  },
  {
   "cell_type": "code",
   "execution_count": 4,
   "metadata": {},
   "outputs": [
    {
     "data": {
      "text/plain": [
       "31422"
      ]
     },
     "execution_count": 4,
     "metadata": {},
     "output_type": "execute_result"
    }
   ],
   "source": [
    "#artist name can be useful, but need to get them as numerical values\n",
    "\n",
    "label_encoder = LabelEncoder()\n",
    "\n",
    "#We are assuming the first artist is the main artist and will give the most information.\n",
    "df_dt['artist_encoded'] = df_dt['artists'].str.split(',').str[0].str.strip()  #Extract first artist\n",
    "df_dt['artist_encoded'] = label_encoder.fit_transform(df_dt['artist_encoded'])  #Apply label encoding\n",
    "\n",
    "X= df_dt.drop(['track_genre', 'artists'], axis=1) #dont need artists column anymore\n",
    "X_noartist = df_dt.drop(['track_genre', 'artist_encoded', 'artists'], axis=1)\n",
    "y = df_dt['track_genre']\n",
    "\n",
    "test = df_dt['artist_encoded'].unique()\n",
    "len(test)"
   ]
  },
  {
   "cell_type": "markdown",
   "metadata": {},
   "source": [
    "Since the number of unique artists is still quite large, lets do a tree with and a tree without using the artists name as a attribute."
   ]
  },
  {
   "cell_type": "code",
   "execution_count": 5,
   "metadata": {},
   "outputs": [
    {
     "data": {
      "text/html": [
       "<style>#sk-container-id-1 {color: black;}#sk-container-id-1 pre{padding: 0;}#sk-container-id-1 div.sk-toggleable {background-color: white;}#sk-container-id-1 label.sk-toggleable__label {cursor: pointer;display: block;width: 100%;margin-bottom: 0;padding: 0.3em;box-sizing: border-box;text-align: center;}#sk-container-id-1 label.sk-toggleable__label-arrow:before {content: \"▸\";float: left;margin-right: 0.25em;color: #696969;}#sk-container-id-1 label.sk-toggleable__label-arrow:hover:before {color: black;}#sk-container-id-1 div.sk-estimator:hover label.sk-toggleable__label-arrow:before {color: black;}#sk-container-id-1 div.sk-toggleable__content {max-height: 0;max-width: 0;overflow: hidden;text-align: left;background-color: #f0f8ff;}#sk-container-id-1 div.sk-toggleable__content pre {margin: 0.2em;color: black;border-radius: 0.25em;background-color: #f0f8ff;}#sk-container-id-1 input.sk-toggleable__control:checked~div.sk-toggleable__content {max-height: 200px;max-width: 100%;overflow: auto;}#sk-container-id-1 input.sk-toggleable__control:checked~label.sk-toggleable__label-arrow:before {content: \"▾\";}#sk-container-id-1 div.sk-estimator input.sk-toggleable__control:checked~label.sk-toggleable__label {background-color: #d4ebff;}#sk-container-id-1 div.sk-label input.sk-toggleable__control:checked~label.sk-toggleable__label {background-color: #d4ebff;}#sk-container-id-1 input.sk-hidden--visually {border: 0;clip: rect(1px 1px 1px 1px);clip: rect(1px, 1px, 1px, 1px);height: 1px;margin: -1px;overflow: hidden;padding: 0;position: absolute;width: 1px;}#sk-container-id-1 div.sk-estimator {font-family: monospace;background-color: #f0f8ff;border: 1px dotted black;border-radius: 0.25em;box-sizing: border-box;margin-bottom: 0.5em;}#sk-container-id-1 div.sk-estimator:hover {background-color: #d4ebff;}#sk-container-id-1 div.sk-parallel-item::after {content: \"\";width: 100%;border-bottom: 1px solid gray;flex-grow: 1;}#sk-container-id-1 div.sk-label:hover label.sk-toggleable__label {background-color: #d4ebff;}#sk-container-id-1 div.sk-serial::before {content: \"\";position: absolute;border-left: 1px solid gray;box-sizing: border-box;top: 0;bottom: 0;left: 50%;z-index: 0;}#sk-container-id-1 div.sk-serial {display: flex;flex-direction: column;align-items: center;background-color: white;padding-right: 0.2em;padding-left: 0.2em;position: relative;}#sk-container-id-1 div.sk-item {position: relative;z-index: 1;}#sk-container-id-1 div.sk-parallel {display: flex;align-items: stretch;justify-content: center;background-color: white;position: relative;}#sk-container-id-1 div.sk-item::before, #sk-container-id-1 div.sk-parallel-item::before {content: \"\";position: absolute;border-left: 1px solid gray;box-sizing: border-box;top: 0;bottom: 0;left: 50%;z-index: -1;}#sk-container-id-1 div.sk-parallel-item {display: flex;flex-direction: column;z-index: 1;position: relative;background-color: white;}#sk-container-id-1 div.sk-parallel-item:first-child::after {align-self: flex-end;width: 50%;}#sk-container-id-1 div.sk-parallel-item:last-child::after {align-self: flex-start;width: 50%;}#sk-container-id-1 div.sk-parallel-item:only-child::after {width: 0;}#sk-container-id-1 div.sk-dashed-wrapped {border: 1px dashed gray;margin: 0 0.4em 0.5em 0.4em;box-sizing: border-box;padding-bottom: 0.4em;background-color: white;}#sk-container-id-1 div.sk-label label {font-family: monospace;font-weight: bold;display: inline-block;line-height: 1.2em;}#sk-container-id-1 div.sk-label-container {text-align: center;}#sk-container-id-1 div.sk-container {/* jupyter's `normalize.less` sets `[hidden] { display: none; }` but bootstrap.min.css set `[hidden] { display: none !important; }` so we also need the `!important` here to be able to override the default hidden behavior on the sphinx rendered scikit-learn.org. See: https://github.com/scikit-learn/scikit-learn/issues/21755 */display: inline-block !important;position: relative;}#sk-container-id-1 div.sk-text-repr-fallback {display: none;}</style><div id=\"sk-container-id-1\" class=\"sk-top-container\"><div class=\"sk-text-repr-fallback\"><pre>DecisionTreeClassifier(random_state=42)</pre><b>In a Jupyter environment, please rerun this cell to show the HTML representation or trust the notebook. <br />On GitHub, the HTML representation is unable to render, please try loading this page with nbviewer.org.</b></div><div class=\"sk-container\" hidden><div class=\"sk-item\"><div class=\"sk-estimator sk-toggleable\"><input class=\"sk-toggleable__control sk-hidden--visually\" id=\"sk-estimator-id-1\" type=\"checkbox\" checked><label for=\"sk-estimator-id-1\" class=\"sk-toggleable__label sk-toggleable__label-arrow\">DecisionTreeClassifier</label><div class=\"sk-toggleable__content\"><pre>DecisionTreeClassifier(random_state=42)</pre></div></div></div></div></div>"
      ],
      "text/plain": [
       "DecisionTreeClassifier(random_state=42)"
      ]
     },
     "execution_count": 5,
     "metadata": {},
     "output_type": "execute_result"
    }
   ],
   "source": [
    "X_train, X_test, y_train, y_test = train_test_split(X, y, test_size=0.2, random_state=42)\n",
    "\n",
    "tree_classifier = DecisionTreeClassifier(random_state=42)\n",
    "tree_classifier.fit(X_train, y_train)"
   ]
  },
  {
   "cell_type": "code",
   "execution_count": 6,
   "metadata": {},
   "outputs": [
    {
     "name": "stdout",
     "output_type": "stream",
     "text": [
      "Accuracy: 0.23390350877192984\n",
      "Confusion Matrix:\n",
      "[[29  0  0 ...  2  1  3]\n",
      " [ 1 42  0 ... 12  0  1]\n",
      " [ 1  0 11 ...  0  1  5]\n",
      " ...\n",
      " [ 0 12  3 ... 21  1  1]\n",
      " [ 0  1  4 ...  0 34  1]\n",
      " [ 1  0  9 ...  0  1 45]]\n",
      "Classification Report:\n",
      "                   precision    recall  f1-score   support\n",
      "\n",
      "         acoustic       0.14      0.14      0.14       213\n",
      "         afrobeat       0.19      0.21      0.20       203\n",
      "         alt-rock       0.03      0.05      0.04       215\n",
      "      alternative       0.07      0.10      0.08       184\n",
      "          ambient       0.17      0.19      0.18       197\n",
      "            anime       0.09      0.12      0.11       193\n",
      "      black-metal       0.43      0.46      0.45       210\n",
      "        bluegrass       0.33      0.26      0.29       205\n",
      "            blues       0.12      0.16      0.14       214\n",
      "           brazil       0.08      0.12      0.10       197\n",
      "        breakbeat       0.36      0.35      0.35       199\n",
      "          british       0.11      0.10      0.10       214\n",
      "         cantopop       0.24      0.27      0.25       193\n",
      "    chicago-house       0.37      0.34      0.35       206\n",
      "         children       0.38      0.29      0.33       214\n",
      "            chill       0.14      0.14      0.14       198\n",
      "        classical       0.47      0.47      0.47       198\n",
      "             club       0.13      0.14      0.14       191\n",
      "           comedy       0.80      0.82      0.81       191\n",
      "          country       0.48      0.49      0.48       208\n",
      "            dance       0.29      0.41      0.34       206\n",
      "        dancehall       0.19      0.19      0.19       204\n",
      "      death-metal       0.24      0.29      0.26       192\n",
      "       deep-house       0.10      0.16      0.12       186\n",
      "   detroit-techno       0.49      0.45      0.47       194\n",
      "            disco       0.14      0.16      0.15       194\n",
      "           disney       0.29      0.31      0.30       199\n",
      "    drum-and-bass       0.43      0.44      0.44       194\n",
      "              dub       0.05      0.08      0.06       204\n",
      "          dubstep       0.03      0.02      0.03       226\n",
      "              edm       0.06      0.10      0.07       200\n",
      "          electro       0.19      0.22      0.20       207\n",
      "       electronic       0.06      0.06      0.06       200\n",
      "              emo       0.12      0.13      0.13       193\n",
      "             folk       0.09      0.10      0.09       212\n",
      "            forro       0.37      0.35      0.36       205\n",
      "           french       0.19      0.18      0.18       194\n",
      "             funk       0.22      0.21      0.21       218\n",
      "           garage       0.10      0.11      0.11       192\n",
      "           german       0.27      0.24      0.26       196\n",
      "           gospel       0.20      0.16      0.18       212\n",
      "             goth       0.11      0.08      0.09       223\n",
      "        grindcore       0.82      0.77      0.79       226\n",
      "           groove       0.10      0.10      0.10       212\n",
      "           grunge       0.10      0.08      0.09       202\n",
      "           guitar       0.23      0.23      0.23       189\n",
      "            happy       0.24      0.26      0.25       199\n",
      "        hard-rock       0.04      0.05      0.04       185\n",
      "         hardcore       0.20      0.20      0.20       205\n",
      "        hardstyle       0.42      0.36      0.38       210\n",
      "      heavy-metal       0.26      0.28      0.27       198\n",
      "          hip-hop       0.19      0.22      0.20       202\n",
      "       honky-tonk       0.73      0.68      0.70       205\n",
      "            house       0.18      0.10      0.13       230\n",
      "              idm       0.38      0.37      0.38       217\n",
      "           indian       0.12      0.14      0.13       202\n",
      "            indie       0.05      0.05      0.05       212\n",
      "        indie-pop       0.08      0.06      0.07       209\n",
      "       industrial       0.14      0.10      0.12       211\n",
      "          iranian       0.73      0.62      0.67       181\n",
      "          j-dance       0.30      0.26      0.28       213\n",
      "           j-idol       0.37      0.38      0.38       190\n",
      "            j-pop       0.12      0.12      0.12       224\n",
      "           j-rock       0.05      0.05      0.05       196\n",
      "             jazz       0.42      0.39      0.41       213\n",
      "            k-pop       0.38      0.32      0.35       211\n",
      "             kids       0.49      0.56      0.52       193\n",
      "            latin       0.10      0.13      0.11       205\n",
      "           latino       0.03      0.04      0.04       195\n",
      "            malay       0.08      0.07      0.08       204\n",
      "         mandopop       0.20      0.19      0.19       205\n",
      "            metal       0.06      0.05      0.06       189\n",
      "        metalcore       0.21      0.17      0.19       198\n",
      "   minimal-techno       0.28      0.25      0.27       204\n",
      "              mpb       0.07      0.10      0.08       187\n",
      "          new-age       0.40      0.43      0.41       190\n",
      "            opera       0.36      0.39      0.37       181\n",
      "           pagode       0.37      0.35      0.36       200\n",
      "            party       0.38      0.41      0.40       204\n",
      "            piano       0.24      0.22      0.23       197\n",
      "              pop       0.24      0.23      0.23       186\n",
      "         pop-film       0.33      0.25      0.28       209\n",
      "        power-pop       0.27      0.26      0.27       207\n",
      "progressive-house       0.16      0.13      0.15       178\n",
      "       psych-rock       0.14      0.13      0.14       180\n",
      "             punk       0.04      0.04      0.04       203\n",
      "        punk-rock       0.03      0.03      0.03       200\n",
      "            r-n-b       0.12      0.11      0.11       203\n",
      "           reggae       0.05      0.04      0.04       196\n",
      "        reggaeton       0.02      0.01      0.01       196\n",
      "             rock       0.20      0.17      0.19       199\n",
      "      rock-n-roll       0.23      0.24      0.23       208\n",
      "       rockabilly       0.18      0.16      0.17       219\n",
      "          romance       0.72      0.73      0.72       195\n",
      "              sad       0.12      0.12      0.12       173\n",
      "            salsa       0.44      0.49      0.46       181\n",
      "            samba       0.20      0.18      0.19       198\n",
      "        sertanejo       0.39      0.33      0.36       200\n",
      "       show-tunes       0.26      0.20      0.23       209\n",
      "singer-songwriter       0.05      0.07      0.06       184\n",
      "              ska       0.13      0.12      0.12       195\n",
      "            sleep       0.87      0.83      0.85       206\n",
      "       songwriter       0.02      0.01      0.01       183\n",
      "             soul       0.25      0.19      0.22       194\n",
      "          spanish       0.13      0.11      0.12       203\n",
      "            study       0.65      0.60      0.63       186\n",
      "          swedish       0.17      0.17      0.17       181\n",
      "        synth-pop       0.12      0.10      0.11       193\n",
      "            tango       0.62      0.51      0.56       204\n",
      "           techno       0.13      0.10      0.12       205\n",
      "           trance       0.30      0.26      0.28       197\n",
      "         trip-hop       0.12      0.12      0.12       177\n",
      "          turkish       0.19      0.19      0.19       183\n",
      "      world-music       0.26      0.25      0.25       181\n",
      "\n",
      "         accuracy                           0.23     22800\n",
      "        macro avg       0.24      0.23      0.24     22800\n",
      "     weighted avg       0.24      0.23      0.24     22800\n",
      "\n"
     ]
    }
   ],
   "source": [
    "y_pred = tree_classifier.predict(X_test)\n",
    "\n",
    "accuracy = accuracy_score(y_test, y_pred)\n",
    "confusion_mat = confusion_matrix(y_test, y_pred)\n",
    "classification_rep = classification_report(y_test, y_pred)\n",
    "\n",
    "print(f\"Accuracy: {accuracy}\")\n",
    "print(f\"Confusion Matrix:\\n{confusion_mat}\")\n",
    "print(f\"Classification Report:\\n{classification_rep}\")"
   ]
  },
  {
   "cell_type": "code",
   "execution_count": null,
   "metadata": {},
   "outputs": [],
   "source": [
    "from sklearn.tree import plot_tree\n",
    "import matplotlib.pyplot as plt\n",
    "\n",
    "plt.figure(figsize=(15, 10))\n",
    "plot_tree(tree_classifier, filled=True, feature_names=X.columns, class_names=list(map(str, tree_classifier.classes_)))\n",
    "plt.show()"
   ]
  },
  {
   "cell_type": "markdown",
   "metadata": {},
   "source": [
    "# Naive Bayes"
   ]
  },
  {
   "cell_type": "code",
   "execution_count": null,
   "metadata": {},
   "outputs": [],
   "source": [
    "df_nb = df.copy()"
   ]
  },
  {
   "cell_type": "markdown",
   "metadata": {},
   "source": [
    "# Logistic Regression"
   ]
  },
  {
   "cell_type": "code",
   "execution_count": null,
   "metadata": {},
   "outputs": [],
   "source": [
    "df_lr = df.copy()"
   ]
  },
  {
   "cell_type": "markdown",
   "metadata": {},
   "source": [
    "# Support Vector Machine"
   ]
  },
  {
   "cell_type": "code",
   "execution_count": null,
   "metadata": {},
   "outputs": [],
   "source": [
    "df_svm = df.copy()"
   ]
  },
  {
   "cell_type": "markdown",
   "metadata": {},
   "source": [
    "# Multi-Layer Perceptron"
   ]
  },
  {
   "cell_type": "code",
   "execution_count": null,
   "metadata": {},
   "outputs": [],
   "source": [
    "df_mlp = df.copy()"
   ]
  }
 ],
 "metadata": {
  "kernelspec": {
   "display_name": "Python 3",
   "language": "python",
   "name": "python3"
  },
  "language_info": {
   "codemirror_mode": {
    "name": "ipython",
    "version": 3
   },
   "file_extension": ".py",
   "mimetype": "text/x-python",
   "name": "python",
   "nbconvert_exporter": "python",
   "pygments_lexer": "ipython3",
   "version": "3.11.5"
  }
 },
 "nbformat": 4,
 "nbformat_minor": 2
}
